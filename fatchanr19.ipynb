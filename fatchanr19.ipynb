{
  "nbformat": 4,
  "nbformat_minor": 0,
  "metadata": {
    "colab": {
      "name": "fatchanr19.ipynb",
      "provenance": [],
      "authorship_tag": "ABX9TyN8ohJ9v3KYAD/cS214n3Aw",
      "include_colab_link": true
    },
    "kernelspec": {
      "name": "python3",
      "display_name": "Python 3"
    },
    "language_info": {
      "name": "python"
    }
  },
  "cells": [
    {
      "cell_type": "markdown",
      "metadata": {
        "id": "view-in-github",
        "colab_type": "text"
      },
      "source": [
        "<a href=\"https://colab.research.google.com/github/fatcha19/fatcha_19.github.io/blob/main/fatchanr19.ipynb\" target=\"_parent\"><img src=\"https://colab.research.google.com/assets/colab-badge.svg\" alt=\"Open In Colab\"/></a>"
      ]
    },
    {
      "cell_type": "code",
      "execution_count": null,
      "metadata": {
        "id": "fx4BP7OBdz-s"
      },
      "outputs": [],
      "source": [
        "mkdir halaman-github\n",
        "cd halaman-github\n",
        "echo \"Hello world welcome to my website\">>index.md\n",
        "git init\n",
        "git add index.md\n",
        "git commit-m \"first commit\""
      ]
    }
  ]
}